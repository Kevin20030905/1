{
 "cells": [
  {
   "cell_type": "code",
   "execution_count": null,
   "metadata": {},
   "outputs": [],
   "source": [
    "import numpy as np\n",
    "import pandas as pd\n",
    "\n",
    "scores = np.random.randint(50,high=101,size=(50,5))\n",
    "dataFrame = pd.DataFrame(scores,\n",
    "             columns=[\"國文\", \"英文\", \"數學\", \"地理\", \"歷史\"],\n",
    "             index=range(1,51))\n",
    "dataFrame.index.name = \"學號\"\n",
    "dataFrame.columns.name = \"科目\"\n",
    "dataFrame"
   ]
  },
  {
   "cell_type": "code",
   "execution_count": null,
   "metadata": {},
   "outputs": [],
   "source": [
    "sum_values = dataFrame.sum(axis=1)\n",
    "avg_values = dataFrame.mean(axis=1)\n",
    "dataFrame['總分'] = sum_values\n",
    "dataFrame['平均'] = avg_values\n",
    "dataFrame"
   ]
  }
 ],
 "metadata": {
  "language_info": {
   "name": "python"
  }
 },
 "nbformat": 4,
 "nbformat_minor": 2
}
