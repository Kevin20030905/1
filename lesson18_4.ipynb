{
 "cells": [
  {
   "cell_type": "code",
   "execution_count": null,
   "metadata": {},
   "outputs": [],
   "source": [
    "import numpy as np\n",
    "import pandas as pd\n",
    "\n",
    "dataFrame = pd.read_csv('各鄉鎮市區人口密度.csv')\n",
    "dataFrame.columns = dataFrame.iloc[0]\n",
    "dataFrame1 = dataFrame.drop(index=0)\n",
    "dataFrame1.iloc[-10:]"
   ]
  },
  {
   "cell_type": "code",
   "execution_count": null,
   "metadata": {},
   "outputs": [],
   "source": [
    "dataFrame2 = dataFrame1.drop(index=[371,372,373,374,375])\n",
    "dataFrame2.info()"
   ]
  },
  {
   "cell_type": "code",
   "execution_count": null,
   "metadata": {},
   "outputs": [],
   "source": [
    "dataFrame2['人口密度'] = dataFrame2['人口密度'].fillna(value=0)\n",
    "dataFrame2.info()"
   ]
  },
  {
   "cell_type": "code",
   "execution_count": null,
   "metadata": {},
   "outputs": [],
   "source": [
    "def intFormat(value):\n",
    "    try:\n",
    "        return int(value)\n",
    "    except:\n",
    "        return 0\n",
    "\n",
    "def floatFormat(value):\n",
    "    try:\n",
    "        return float(value)\n",
    "    except:\n",
    "        return 0.0\n",
    "    \n",
    "dataFrame2['年底人口數'] = dataFrame2['年底人口數'].map(intFormat)\n",
    "dataFrame2['人口密度'] = dataFrame2['人口密度'].map(intFormat)\n",
    "dataFrame2['土地面積'] = dataFrame2['土地面積'].map(floatFormat)\n",
    "dataFrame2.info()"
   ]
  },
  {
   "cell_type": "code",
   "execution_count": null,
   "metadata": {},
   "outputs": [],
   "source": [
    "dataFrame2"
   ]
  }
 ],
 "metadata": {
  "language_info": {
   "name": "python"
  }
 },
 "nbformat": 4,
 "nbformat_minor": 2
}
