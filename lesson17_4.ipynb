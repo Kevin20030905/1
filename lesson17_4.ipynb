{
 "cells": [
  {
   "cell_type": "code",
   "execution_count": null,
   "metadata": {},
   "outputs": [],
   "source": [
    "#搜尋值\n",
    "import pandas as pd\n",
    "dataFrame1 = pd.read_csv('學生成績表1.csv')\n",
    "dataFrame1.index = dataFrame1['姓名']\n",
    "dataFrame2 = dataFrame1.drop(columns='姓名')\n",
    "dataFrame2.info()"
   ]
  },
  {
   "cell_type": "code",
   "execution_count": null,
   "metadata": {},
   "outputs": [],
   "source": [
    "#國文成績不及格的\n",
    "dataFrame2[dataFrame2['國文'] < 60]"
   ]
  },
  {
   "cell_type": "code",
   "execution_count": null,
   "metadata": {},
   "outputs": [],
   "source": [
    "#國文成績不及格的,使用query\n",
    "dataFrame2.query('國文<60')"
   ]
  },
  {
   "cell_type": "code",
   "execution_count": null,
   "metadata": {},
   "outputs": [],
   "source": [
    "#國文成績或者英文不及格的,subscript\n",
    "dataFrame2[(dataFrame2['國文'] < 60) | (dataFrame2['英文'] < 60)]"
   ]
  },
  {
   "cell_type": "code",
   "execution_count": null,
   "metadata": {},
   "outputs": [],
   "source": [
    "#國文成績和英文同時不及格的,subscript\n",
    "dataFrame2[(dataFrame2['國文'] < 60) & (dataFrame2['英文'] < 60)]"
   ]
  },
  {
   "cell_type": "code",
   "execution_count": null,
   "metadata": {},
   "outputs": [],
   "source": [
    "#國文成績或者英文不及格的,query()\n",
    "dataFrame2.query('國文<60 or 英文<60')"
   ]
  },
  {
   "cell_type": "code",
   "execution_count": null,
   "metadata": {},
   "outputs": [],
   "source": [
    "#國文成績和英文同時不及格的,query()\n",
    "dataFrame2.query('國文<60 and 英文<60')"
   ]
  }
 ],
 "metadata": {
  "language_info": {
   "name": "python"
  }
 },
 "nbformat": 4,
 "nbformat_minor": 2
}
