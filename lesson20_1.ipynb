{
 "cells": [
  {
   "cell_type": "code",
   "execution_count": null,
   "metadata": {},
   "outputs": [],
   "source": [
    "import requests\n",
    "url1 = \"https://ods.railway.gov.tw/tra-ods-web/ods/download/dataResource/8ae4cabf6973990e0169947ed32454b9\"\n",
    "response = requests.get(url1)\n",
    "jsonData = response.json()\n",
    "jsonData"
   ]
  },
  {
   "cell_type": "code",
   "execution_count": null,
   "metadata": {},
   "outputs": [],
   "source": [
    "import numpy as np\n",
    "import pandas as pd\n",
    "stations_df = pd.DataFrame(jsonData)\n",
    "stations_df.columns = ['乘車日', '車站代碼', '進站人數', '出站人數']\n",
    "stations_df"
   ]
  },
  {
   "cell_type": "code",
   "execution_count": null,
   "metadata": {},
   "outputs": [],
   "source": [
    "url2 = 'https://ods.railway.gov.tw/tra-ods-web/ods/download/dataResource/0518b833e8964d53bfea3f7691aea0ee'\n",
    "response = requests.get(url2)\n",
    "jsonData1 = response.json()"
   ]
  },
  {
   "cell_type": "code",
   "execution_count": null,
   "metadata": {},
   "outputs": [],
   "source": [
    "station_name_df = pd.DataFrame(jsonData1,columns=['stationCode','stationName'])\n",
    "station_name_df.columns = [\"車站代碼\", \"中文站名\"]\n",
    "station_name_df"
   ]
  },
  {
   "cell_type": "code",
   "execution_count": null,
   "metadata": {},
   "outputs": [],
   "source": [
    "stations_df, station_name_df\n",
    "mergeFrame = pd.merge(stations_df, station_name_df, on='車站代碼', how='left')\n",
    "mergeFrame"
   ]
  },
  {
   "cell_type": "code",
   "execution_count": null,
   "metadata": {},
   "outputs": [],
   "source": [
    "mergeFrame.info()"
   ]
  },
  {
   "cell_type": "code",
   "execution_count": null,
   "metadata": {},
   "outputs": [],
   "source": [
    "#將日期欄位改為datetime資料類型\n",
    "mergeFrame['乘車日'] = pd.to_datetime(mergeFrame['乘車日'])"
   ]
  },
  {
   "cell_type": "code",
   "execution_count": null,
   "metadata": {},
   "outputs": [],
   "source": [
    "mergeFrame.info()"
   ]
  },
  {
   "cell_type": "code",
   "execution_count": null,
   "metadata": {},
   "outputs": [],
   "source": [
    "def toInt(value:str)->int:\n",
    "    return int(value)\n",
    "\n",
    "mergeFrame['進站人數'].map(toInt)"
   ]
  },
  {
   "cell_type": "code",
   "execution_count": null,
   "metadata": {},
   "outputs": [],
   "source": [
    "#沒有名稱的function,lambda\n",
    "mergeFrame['進站人數'].map(lambda value:int(value))"
   ]
  },
  {
   "cell_type": "code",
   "execution_count": null,
   "metadata": {},
   "outputs": [],
   "source": [
    "mergeFrame['進站人數'] = mergeFrame['進站人數'].astype(int)\n",
    "mergeFrame['出站人數'] = mergeFrame['出站人數'].astype(int)"
   ]
  },
  {
   "cell_type": "code",
   "execution_count": null,
   "metadata": {},
   "outputs": [],
   "source": [
    "mergeFrame.info()"
   ]
  },
  {
   "cell_type": "code",
   "execution_count": null,
   "metadata": {},
   "outputs": [],
   "source": [
    "mergeFrame1 = mergeFrame.reindex(columns=['乘車日','中文站名','進站人數','出站人數'])\n",
    "mergeFrame1"
   ]
  },
  {
   "cell_type": "code",
   "execution_count": null,
   "metadata": {},
   "outputs": [],
   "source": [
    "mergeFrame2 = mergeFrame1.set_index(['乘車日', '中文站名'])\n",
    "mergeFrame2"
   ]
  },
  {
   "cell_type": "code",
   "execution_count": null,
   "metadata": {},
   "outputs": [],
   "source": [
    "mergeFrame2.columns.name = '進出站人數'\n",
    "mergeFrame2"
   ]
  },
  {
   "cell_type": "code",
   "execution_count": null,
   "metadata": {},
   "outputs": [],
   "source": [
    "#stack()或unstack()時,確認索引值組合後,不會有重覆\n",
    "mergeFrame3 = mergeFrame2.stack().unstack(level=['中文站名','進出站人數'])"
   ]
  },
  {
   "cell_type": "code",
   "execution_count": null,
   "metadata": {},
   "outputs": [],
   "source": [
    "mergeFrame3.loc['2023-01-01':'2023-01-31']"
   ]
  },
  {
   "cell_type": "code",
   "execution_count": null,
   "metadata": {},
   "outputs": [],
   "source": [
    "mergeFrame3.loc['2023-01']"
   ]
  }
 ],
 "metadata": {
  "language_info": {
   "name": "python"
  }
 },
 "nbformat": 4,
 "nbformat_minor": 2
}
