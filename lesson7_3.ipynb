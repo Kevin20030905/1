{
 "cells": [
  {
   "cell_type": "code",
   "execution_count": null,
   "metadata": {},
   "outputs": [],
   "source": [
    "#自訂的class\n",
    "class Student:\n",
    "    pass"
   ]
  },
  {
   "cell_type": "code",
   "execution_count": null,
   "metadata": {},
   "outputs": [],
   "source": [
    "stu1 = Student()\n",
    "print(stu1)\n",
    "\n",
    "stu2 = Student()\n",
    "print(stu2)\n",
    "\n",
    "stu3 = Student()\n",
    "print(stu3)"
   ]
  },
  {
   "cell_type": "code",
   "execution_count": null,
   "metadata": {},
   "outputs": [],
   "source": [
    "def student_info(student):\n",
    "    print(\"name:\",student.name)\n",
    "    print(\"chinese:\",student.chinese)\n",
    "    print(\"english:\",student.english)\n",
    "    print(\"math\",student.math)"
   ]
  },
  {
   "cell_type": "code",
   "execution_count": null,
   "metadata": {},
   "outputs": [],
   "source": [
    "stu1.name = \"徐國堂\"\n",
    "stu1.chinese = 78\n",
    "stu1.english = 92\n",
    "stu1.math = 65\n",
    "student_info(stu1)"
   ]
  },
  {
   "cell_type": "code",
   "execution_count": null,
   "metadata": {},
   "outputs": [],
   "source": [
    "stu2.name = \"張xx\"\n",
    "stu2.chinese = 92\n",
    "stu2.english = 93\n",
    "stu2.math = 68\n",
    "student_info(stu2)"
   ]
  },
  {
   "cell_type": "code",
   "execution_count": null,
   "metadata": {},
   "outputs": [],
   "source": [
    "stu3.name = \"王xx\"\n",
    "stu3.chinese = 86\n",
    "stu3.english = 56\n",
    "stu3.math = 92\n",
    "student_info(stu3)"
   ]
  }
 ],
 "metadata": {
  "language_info": {
   "name": "python"
  },
  "orig_nbformat": 4
 },
 "nbformat": 4,
 "nbformat_minor": 2
}
