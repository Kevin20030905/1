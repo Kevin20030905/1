{
 "cells": [
  {
   "cell_type": "code",
   "execution_count": null,
   "metadata": {},
   "outputs": [],
   "source": [
    "import numpy as np\n",
    "import pandas as pd\n",
    "scores = np.random.randint(50,101,size=(50,5))\n",
    "scores_df = pd.DataFrame(scores,\n",
    "             columns=['國文', '英文', '數學', '地理', '歷史'],\n",
    "             index=range(1,51))\n",
    "\n",
    "def site(value:int)->str:\n",
    "    return f\"座號{value}\"\n",
    "\n",
    "scores_df.index = scores_df.index.map(site)\n",
    "scores_df.index.name = \"座號\"\n",
    "scores_df.columns.name=\"科目\"\n",
    "scores_df"
   ]
  },
  {
   "cell_type": "code",
   "execution_count": null,
   "metadata": {},
   "outputs": [],
   "source": [
    "def fun1(series:pd.Series)->pd.Series:\n",
    "    data = [series.sum(),series.mean()]\n",
    "    s = pd.Series(data,\n",
    "                  index=['總分','平均'])\n",
    "    return s\n",
    "\n",
    "scores_df.apply(fun1,axis=1)"
   ]
  },
  {
   "cell_type": "code",
   "execution_count": null,
   "metadata": {},
   "outputs": [],
   "source": [
    "def fun2(series:pd.Series)->pd.Series:\n",
    "    data = [series.sum(),series.mean(),series.max(),series.min()]\n",
    "    s = pd.Series(data,\n",
    "                  index=['總分','平均','最高分','最低分'])\n",
    "    return s\n",
    "\n",
    "scores_df.apply(fun2,axis=1)"
   ]
  },
  {
   "cell_type": "code",
   "execution_count": null,
   "metadata": {},
   "outputs": [],
   "source": [
    "def fun3(series:pd.Series)->pd.Series:\n",
    "    less60 = series[series<60]\n",
    "    less_count = less60.count()\n",
    "    data = [series.sum(),series.mean(),series.max(),series.min(),less_count]\n",
    "    s = pd.Series(data,\n",
    "                  index=['總分','平均','最高分','最低分','不及格科目數'])\n",
    "    return s\n",
    "\n",
    "scores_df.apply(fun3,axis=1)"
   ]
  }
 ],
 "metadata": {
  "language_info": {
   "name": "python"
  }
 },
 "nbformat": 4,
 "nbformat_minor": 2
}
