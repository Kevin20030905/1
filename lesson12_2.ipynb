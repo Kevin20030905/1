{
 "cells": [
  {
   "cell_type": "code",
   "execution_count": null,
   "metadata": {},
   "outputs": [],
   "source": [
    "try:\n",
    "    nums = int(input(\"請輸入整數:\"))\n",
    "except ValueError:\n",
    "    print(\"輸入錯誤\")\n",
    "else:\n",
    "   print(nums) "
   ]
  },
  {
   "cell_type": "code",
   "execution_count": null,
   "metadata": {},
   "outputs": [],
   "source": [
    "import pyinputplus\n",
    "name = pyinputplus.inputStr()\n",
    "print(name)"
   ]
  },
  {
   "cell_type": "code",
   "execution_count": null,
   "metadata": {},
   "outputs": [],
   "source": [
    "import pyinputplus as pyip\n",
    "nums = pyip.inputNum(\"請輸入整數:\")\n",
    "print(nums)"
   ]
  },
  {
   "cell_type": "code",
   "execution_count": null,
   "metadata": {},
   "outputs": [],
   "source": [
    "empty_set = set()\n",
    "empty_set"
   ]
  },
  {
   "cell_type": "code",
   "execution_count": null,
   "metadata": {},
   "outputs": [],
   "source": [
    "\n",
    "empty_set = {} #這是建立dictionary\n",
    "type(empty_set)"
   ]
  },
  {
   "cell_type": "code",
   "execution_count": null,
   "metadata": {},
   "outputs": [],
   "source": [
    "even_numbers = {0, 2, 4, 6, 8, 10, 0, 2, 4, 6, 8, 10}\n",
    "even_numbers.add(12)\n",
    "even_numbers"
   ]
  },
  {
   "cell_type": "code",
   "execution_count": null,
   "metadata": {},
   "outputs": [],
   "source": [
    "#撰寫一個大樂透電腦自動選號程式，程式執行會以亂數的方式顯示1-49之間七個不重複的大樂透號碼。\n",
    "import random\n",
    "lotos = set()\n",
    "while len(lotos) < 7:\n",
    "    lotos.add(random.randint(1,49))\n",
    "\n",
    "lotos_list = list(lotos)\n",
    "lotos_list\n",
    "\n",
    "print(\"本期大樂透電腦選號號碼如下:\")\n",
    "for num in lotos_list[:6]:\n",
    "    print(num,end=\" \")\n",
    "print()\n",
    "print(f\"特別號:{lotos_list[-1]}\")"
   ]
  },
  {
   "cell_type": "code",
   "execution_count": null,
   "metadata": {},
   "outputs": [],
   "source": [
    "import pyinputplus as pyip\n",
    "import random\n",
    "\n",
    "def generate_loto() -> list:\n",
    "    lotos = set()\n",
    "    while len(lotos) < 7:\n",
    "        lotos.add(random.randint(1,49))\n",
    "\n",
    "    return list(lotos)\n",
    "\n",
    "\n",
    "num = pyip.inputInt(\"請輸入電腦選號的組數:(最多10組)\\n\",max=10)\n",
    "print(\"本期大樂透電腦選號號碼如下:\")\n",
    "for i in range(num):\n",
    "    print(f\"第{i+1}組\")\n",
    "    lotos_list = generate_loto()\n",
    "    for num in lotos_list[:6]:\n",
    "        print(num,end=\" \")\n",
    "    print()\n",
    "    print(f\"特別號:{lotos_list[-1]}\\n\")"
   ]
  }
 ],
 "metadata": {
  "language_info": {
   "name": "python"
  },
  "orig_nbformat": 4
 },
 "nbformat": 4,
 "nbformat_minor": 2
}
