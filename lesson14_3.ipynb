{
 "cells": [
  {
   "cell_type": "code",
   "execution_count": null,
   "metadata": {},
   "outputs": [],
   "source": [
    "import matplotlib.pyplot as plt\n",
    "\n",
    "index = ['apple', 'banana', 'orange', 'tomato', 'guava']\n",
    "values = [5, 7, 3, 4, 6]\n",
    "\n",
    "figure = plt.figure()\n",
    "axes = figure.add_subplot(1,1,1)\n",
    "axes.bar(index, values)\n",
    "plt.show()"
   ]
  },
  {
   "cell_type": "code",
   "execution_count": null,
   "metadata": {},
   "outputs": [],
   "source": [
    "import matplotlib.pyplot as plt\n",
    "\n",
    "index = ['apple', 'banana', 'orange', 'tomato', 'guava']\n",
    "values = [5, 7, 3, 4, 6]\n",
    "\n",
    "figure = plt.figure()\n",
    "axes = figure.add_subplot(1,1,1)\n",
    "axes.barh(index, values)\n",
    "plt.show()"
   ]
  },
  {
   "cell_type": "code",
   "execution_count": null,
   "metadata": {},
   "outputs": [],
   "source": [
    "import matplotlib.pyplot as plt\n",
    "index = [3, 4, 5, 6, 7]\n",
    "subject = ['apple', 'banana', 'orange', 'tomato', 'guava']\n",
    "values = [5000, 7000, 3000, 4000, 6000]\n",
    "\n",
    "figure = plt.figure()\n",
    "axes = figure.add_subplot(1,1,1)\n",
    "axes.bar(index, values)\n",
    "axes.set_xticks(index,labels=subject)\n",
    "print(axes.get_xticks())\n",
    "plt.show()"
   ]
  },
  {
   "cell_type": "code",
   "execution_count": null,
   "metadata": {},
   "outputs": [],
   "source": [
    "import matplotlib.pyplot as plt\n",
    "index = [3, 4, 5, 6, 7]\n",
    "subject = ['apple', 'banana', 'orange', 'tomato', 'guava']\n",
    "values = [5000, 7000, 3000, 4000, 6000]\n",
    "\n",
    "figure = plt.figure()\n",
    "axes = figure.add_subplot(1,1,1)\n",
    "axes.bar(index, values)\n",
    "axes.set_xticks(index,labels=subject)\n",
    "axes.annotate(str(values[0]),xy=(3-0.1,5000+50))\n",
    "plt.show()"
   ]
  },
  {
   "cell_type": "code",
   "execution_count": null,
   "metadata": {},
   "outputs": [],
   "source": [
    "import matplotlib.pyplot as plt\n",
    "index = [3, 4, 5, 6, 7]\n",
    "subject = ['apple', 'banana', 'orange', 'tomato', 'guava']\n",
    "values = [5000, 7000, 3000, 4000, 6000]\n",
    "\n",
    "figure = plt.figure()\n",
    "axes = figure.add_subplot(1,1,1)\n",
    "axes.bar(index, values)\n",
    "axes.set_xticks(index,labels=subject)\n",
    "for idx,i in enumerate(axes.get_xticks()):\n",
    "    axes.annotate(str(values[idx]),xy=(i-0.13,values[idx]+50))\n",
    "#axes.annotate(str(values[0]),xy=(3-0.1,5000+50))\n",
    "plt.show()"
   ]
  },
  {
   "cell_type": "code",
   "execution_count": null,
   "metadata": {},
   "outputs": [],
   "source": [
    "import matplotlib.pyplot as plt\n",
    "index = [3, 4, 5, 6, 7]\n",
    "subject = ['apple', 'banana', 'orange', 'tomato', 'guava']\n",
    "values = [5000, 7000, 3000, 4000, 6000]\n",
    "\n",
    "figure = plt.figure()\n",
    "axes = figure.add_subplot(1,1,1)\n",
    "axes.bar(index, values)\n",
    "axes.set_xticks(index,labels=subject)\n",
    "for idx,i in enumerate(axes.get_xticks()):\n",
    "    axes.annotate(str(values[idx]),xy=(i-0.13,values[idx]+50))\n",
    "#axes.annotate(str(values[0]),xy=(3-0.1,5000+50))\n",
    "xmin, xmax, ymin, ymax = axes.axis()\n",
    "axes.axis(xmin=xmin-0.5,xmax=xmax+0.5,ymin=1000,ymax=ymax+500)\n",
    "plt.show()"
   ]
  }
 ],
 "metadata": {
  "kernelspec": {
   "display_name": "Python 3",
   "language": "python",
   "name": "python3"
  },
  "language_info": {
   "name": "python",
   "version": "3.10.13"
  },
  "orig_nbformat": 4
 },
 "nbformat": 4,
 "nbformat_minor": 2
}
