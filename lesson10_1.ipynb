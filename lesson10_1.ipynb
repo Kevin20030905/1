{
 "cells": [
  {
   "cell_type": "code",
   "execution_count": null,
   "metadata": {},
   "outputs": [],
   "source": [
    "with open(\"學生成績表1.csv\",mode='r',encoding=\"utf-8\",newline=\"\") as file:\n",
    "    pass"
   ]
  },
  {
   "cell_type": "code",
   "execution_count": null,
   "metadata": {},
   "outputs": [],
   "source": [
    "import csv\n",
    "\n",
    "with open(\"學生成績表1.csv\",mode='r',encoding=\"utf-8\",newline=\"\") as file:\n",
    "    csvReader = csv.reader(file)\n",
    "    for row in csvReader:\n",
    "        print(row)"
   ]
  },
  {
   "cell_type": "code",
   "execution_count": null,
   "metadata": {},
   "outputs": [],
   "source": [
    "import csv\n",
    "\n",
    "with open(\"學生成績表1.csv\",mode='r',encoding=\"utf-8\",newline=\"\") as file:\n",
    "    csvReader = csv.reader(file)\n",
    "    next(csvReader)    \n",
    "    #for row in csvReader:\n",
    "    #    print(row)\n",
    "    students = list(csvReader)\n",
    "students"
   ]
  },
  {
   "cell_type": "code",
   "execution_count": null,
   "metadata": {},
   "outputs": [],
   "source": [
    "print(\"國文>=80的學生有:\")\n",
    "amount = 0\n",
    "for student in students:    \n",
    "    if int(student[1]) >= 80:\n",
    "        amount += 1\n",
    "        print(f'學生:{student[0]},國文:{student[1]}')\n",
    "print(f\"共有{amount}學生\")"
   ]
  }
 ],
 "metadata": {
  "language_info": {
   "name": "python"
  },
  "orig_nbformat": 4
 },
 "nbformat": 4,
 "nbformat_minor": 2
}
