{
 "cells": [
  {
   "cell_type": "code",
   "execution_count": null,
   "metadata": {},
   "outputs": [],
   "source": [
    "import matplotlib.pyplot as plt\n",
    "values = [20, 30, 45, 10]\n",
    "labels = ['Nokia','Samsung','Apple','Lumia']\n",
    "colors = ['yellow', 'green', 'red', 'blue']\n",
    "\n",
    "figure = plt.figure()\n",
    "axes = figure.add_subplot(1,1,1)\n",
    "axes.pie(values,labels=labels,colors=colors,explode=[0.3,0,0,0],shadow=True,startangle=180,autopct='%.1f%%')\n",
    "plt.show()"
   ]
  }
 ],
 "metadata": {
  "language_info": {
   "name": "python"
  }
 },
 "nbformat": 4,
 "nbformat_minor": 2
}
