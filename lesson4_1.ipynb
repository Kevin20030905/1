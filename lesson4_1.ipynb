{
 "cells": [
  {
   "cell_type": "code",
   "execution_count": null,
   "metadata": {},
   "outputs": [],
   "source": [
    "#比較運算子\n",
    "x = 7\n",
    "display(x == 7)\n",
    "\n",
    "5 > x"
   ]
  },
  {
   "cell_type": "code",
   "execution_count": null,
   "metadata": {},
   "outputs": [],
   "source": [
    "scores = int(input(\"請輸入分數:\"))\n",
    "if scores < 60:\n",
    "    print(\"不及格\")\n",
    "else:\n",
    "    print(\"及格\")"
   ]
  },
  {
   "cell_type": "code",
   "execution_count": null,
   "metadata": {},
   "outputs": [],
   "source": [
    "#學生總分為300\n",
    "#有些學生可以加分5%\n",
    "#如果加分超過300,就以300分為準\n",
    "\n",
    "scores = int(input(\"請輸入學生分數(最高300分):\"))\n",
    "is_add = input(\"學生是否符合加分條件?(y,n)\")\n",
    "if(is_add == \"y\"): #單項選擇\n",
    "    scores *= 1.05\n",
    "    if scores > 300:\n",
    "        scores = 300\n",
    "\n",
    "print(int(scores))\n",
    "print(round(scores))\n",
    "print(f'{scores:.0f}')"
   ]
  },
  {
   "cell_type": "code",
   "execution_count": null,
   "metadata": {},
   "outputs": [],
   "source": [
    "#學生總分為300\n",
    "#有些學生可以加分5%\n",
    "#如果加分超過300,就以300分為準\n",
    "try:\n",
    "    scores = int(input(\"請輸入學生分數(最高300分):\"))\n",
    "except:\n",
    "    print(\"輸入錯誤\")\n",
    "else:\n",
    "    is_add = input(\"學生是否符合加分條件?(y,n)\")\n",
    "    if(is_add == \"y\"): #單項選擇\n",
    "        scores *= 1.05\n",
    "        if scores > 300:\n",
    "            scores = 300\n",
    "\n",
    "    print(int(scores))\n",
    "    print(round(scores))\n",
    "    print(f'{scores:.0f}')\n",
    "\n",
    "print(\"程式結束\")"
   ]
  },
  {
   "cell_type": "code",
   "execution_count": null,
   "metadata": {},
   "outputs": [],
   "source": [
    "try:\n",
    "    scores = int(input(\"請輸入學生分數(最高300分):\"))\n",
    "    print(f\"您的分數是:{scores}\")\n",
    "except:\n",
    "    print(f\"輸入錯誤:{scores}\")\n",
    "print(\"程式結束\")"
   ]
  },
  {
   "cell_type": "code",
   "execution_count": null,
   "metadata": {},
   "outputs": [],
   "source": [
    "scores = 89\n",
    "if scores >= 60:\n",
    "    print(\"及格\")\n",
    "else:\n",
    "    print(\"不及格\")"
   ]
  },
  {
   "cell_type": "code",
   "execution_count": null,
   "metadata": {},
   "outputs": [],
   "source": [
    "#2個條件使用巢狀判斷\n",
    "\n",
    "scores = 89\n",
    "if scores >= 60:\n",
    "    if scores <= 80:\n",
    "        print(\"60~80\")\n",
    "    else:\n",
    "        print(\"大於80\")\n",
    "else:\n",
    "    print(\"小於60\")     "
   ]
  },
  {
   "cell_type": "code",
   "execution_count": null,
   "metadata": {},
   "outputs": [],
   "source": [
    "#2個條件使用邏輯運算子\n",
    "\n",
    "scores = 50\n",
    "if scores >= 60 and scores <= 80:\n",
    "    print(\"60~80\")\n",
    "else:\n",
    "    if scores < 60:\n",
    "        print(\"小於60\")\n",
    "    else:\n",
    "        print(\"大於80\")"
   ]
  },
  {
   "cell_type": "code",
   "execution_count": null,
   "metadata": {},
   "outputs": [],
   "source": [
    "scores = 92\n",
    "\n",
    "if scores <= 60:\n",
    "    print(\"小於等於60\")\n",
    "\n",
    "if scores >= 80:\n",
    "    print(\"大於等於80\")"
   ]
  },
  {
   "cell_type": "code",
   "execution_count": null,
   "metadata": {},
   "outputs": [],
   "source": [
    "#使用邏輯運算子 or\n",
    "scores = 75\n",
    "\n",
    "if scores <= 60 or scores >= 80:\n",
    "    print(\"小於等於60或者大於等於80\")\n",
    "else:\n",
    "    print(\"61~79之間\")"
   ]
  },
  {
   "cell_type": "code",
   "execution_count": null,
   "metadata": {},
   "outputs": [],
   "source": [
    "#多項選擇\n",
    "scores = 92\n",
    "\n",
    "if scores < 60:\n",
    "    print(\"小於60\")\n",
    "elif scores <= 80:\n",
    "    print(\"60~80\")\n",
    "else:\n",
    "    print(\"81~100\")"
   ]
  },
  {
   "cell_type": "code",
   "execution_count": null,
   "metadata": {},
   "outputs": [],
   "source": [
    "#多項選擇\n",
    "scores = 92\n",
    "if scores > 80:\n",
    "    print(\"81~100\")\n",
    "elif scores >= 60:\n",
    "    print(\"60~80\")\n",
    "else:\n",
    "    print(\"小於60\")"
   ]
  },
  {
   "cell_type": "code",
   "execution_count": null,
   "metadata": {},
   "outputs": [],
   "source": [
    "# 90(含)~100分為「優」\n",
    "# 80(含)~89分為「甲」\n",
    "# 70(含)~79分為「乙」\n",
    "# 60(含)~69分為「丙」\n",
    "# 0(含)~59分為「丁」\n",
    "\n",
    "scores = int(input(\"請輸入學生分數:\"))\n",
    "if scores <= 90:\n",
    "    print(\"優\")\n",
    "elif scores <= 80:\n",
    "    print(\"甲\")\n",
    "elif scores <= 70:\n",
    "    print(\"乙\")\n",
    "elif scores <= 60:\n",
    "    print(\"丙\")\n",
    "else:\n",
    "    print(\"丁\")"
   ]
  }
 ],
 "metadata": {
  "language_info": {
   "name": "python"
  },
  "orig_nbformat": 4
 },
 "nbformat": 4,
 "nbformat_minor": 2
}
