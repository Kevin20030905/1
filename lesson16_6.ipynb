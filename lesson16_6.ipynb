{
 "cells": [
  {
   "cell_type": "code",
   "execution_count": null,
   "metadata": {},
   "outputs": [],
   "source": [
    "import pandas as pd\n",
    "\n",
    "dataFrame1 = pd.read_csv('學生成績表1.csv')\n",
    "dataFrame1.index = dataFrame1['姓名']\n",
    "dataFrame2 = dataFrame1[['國文','英文','數學','地理','歷史']]\n",
    "dataFrame2"
   ]
  },
  {
   "cell_type": "code",
   "execution_count": null,
   "metadata": {},
   "outputs": [],
   "source": [
    "name1 = dataFrame2.loc[['林佳光']]\n",
    "name1"
   ]
  },
  {
   "cell_type": "code",
   "execution_count": null,
   "metadata": {},
   "outputs": [],
   "source": [
    "name1.loc['林佳光'].sum()\n",
    "sum = name1.loc['林佳光'].sum()\n",
    "mean = name1.loc['林佳光'].mean()\n",
    "name1['總分'] = sum\n",
    "name1['平均'] = mean\n",
    "name1"
   ]
  },
  {
   "cell_type": "code",
   "execution_count": null,
   "metadata": {},
   "outputs": [],
   "source": [
    "sum_s = dataFrame2.sum(axis=1)\n",
    "mean_s = dataFrame2.mean(axis=1)\n",
    "dataFrame2['總分'] = sum_s\n",
    "dataFrame2['平均'] = mean_s\n",
    "dataFrame2"
   ]
  },
  {
   "cell_type": "code",
   "execution_count": null,
   "metadata": {},
   "outputs": [],
   "source": [
    "dataFrame2.loc[['林佳光']]"
   ]
  }
 ],
 "metadata": {
  "language_info": {
   "name": "python"
  }
 },
 "nbformat": 4,
 "nbformat_minor": 2
}
