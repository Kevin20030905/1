{
 "cells": [
  {
   "cell_type": "code",
   "execution_count": null,
   "metadata": {},
   "outputs": [],
   "source": [
    "import csv\n",
    "\n",
    "with open(\"學生成績表1.csv\",mode='r',encoding=\"utf-8\",newline=\"\") as file:\n",
    "    csvReader = csv.reader(file)\n",
    "    #next(csvReader)    \n",
    "    #for row in csvReader:\n",
    "    #    print(row)\n",
    "    students = list(csvReader)\n",
    "students"
   ]
  },
  {
   "cell_type": "code",
   "execution_count": null,
   "metadata": {},
   "outputs": [],
   "source": [
    "import pandas as pd\n",
    "dataFrame1 = pd.DataFrame(students)\n",
    "dataFrame1.columns = dataFrame1.iloc[0]\n",
    "dataFrame2 = dataFrame1.iloc[1:]\n",
    "dataFrame2"
   ]
  }
 ],
 "metadata": {
  "language_info": {
   "name": "python"
  }
 },
 "nbformat": 4,
 "nbformat_minor": 2
}
