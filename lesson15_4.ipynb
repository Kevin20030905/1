{
 "cells": [
  {
   "cell_type": "code",
   "execution_count": null,
   "metadata": {},
   "outputs": [],
   "source": [
    "import numpy as np\n",
    "#陣列運算\n",
    "oneArray = np.array([1,2,3,4,5])\n",
    "oneArray * 10 / 5"
   ]
  },
  {
   "cell_type": "code",
   "execution_count": null,
   "metadata": {},
   "outputs": [],
   "source": [
    "#陣列運算\n",
    "twoArray = np.array([9, 8, 7, 6, 5])\n",
    "oneArray + twoArray"
   ]
  },
  {
   "cell_type": "code",
   "execution_count": null,
   "metadata": {},
   "outputs": [],
   "source": [
    "#統計\n",
    "np.sum(oneArray),np.sum(twoArray)"
   ]
  },
  {
   "cell_type": "code",
   "execution_count": null,
   "metadata": {},
   "outputs": [],
   "source": [
    "#科學運算\n",
    "np.log10(oneArray), np.log10(twoArray)"
   ]
  },
  {
   "cell_type": "code",
   "execution_count": null,
   "metadata": {},
   "outputs": [],
   "source": [
    "#多維度的運算\n",
    "np.zeros(10)\n",
    "#快速建立2維資料\n",
    "np.zeros((10,5))\n",
    "#快速建立3維資料\n",
    "np.zeros((10,5,3))"
   ]
  },
  {
   "cell_type": "code",
   "execution_count": null,
   "metadata": {},
   "outputs": [],
   "source": [
    "np.linspace(1,10,num=50).reshape((5,10))"
   ]
  }
 ],
 "metadata": {
  "language_info": {
   "name": "python"
  }
 },
 "nbformat": 4,
 "nbformat_minor": 2
}
