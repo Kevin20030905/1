{
 "cells": [
  {
   "cell_type": "code",
   "execution_count": null,
   "metadata": {},
   "outputs": [],
   "source": [
    "import matplotlib.pyplot as plt\n",
    "student1 = {'chinese':78, 'english':80, 'math': 92, 'history': 75, 'discover':85}\n",
    "subjects = list(student1.keys())\n",
    "s1_value = list(student1.values())\n",
    "\n",
    "figure = plt.figure(figsize=(8,5))\n",
    "axes = figure.add_subplot(1,1,1)\n",
    "axes.plot(subjects,s1_value)\n",
    "print(axes.get_xticks())\n",
    "print(axes.get_xticklabels())\n",
    "plt.show()"
   ]
  },
  {
   "cell_type": "code",
   "execution_count": null,
   "metadata": {},
   "outputs": [],
   "source": [
    "import matplotlib.pyplot as plt\n",
    "student1 = {'chinese':78, 'english':80, 'math': 92, 'history': 75, 'discover':85}\n",
    "subjects = list(student1.keys())\n",
    "s1_value = list(student1.values())\n",
    "\n",
    "student2 = {'chinese':92, 'english':60, 'math': 85, 'history': 62, 'discover':73}\n",
    "s2_value = list(student2.values())\n",
    "\n",
    "figure = plt.figure(figsize=(8,5))\n",
    "axes = figure.add_subplot(1,1,1)\n",
    "axes.plot(subjects,s1_value,'b-.o')\n",
    "axes.plot(subjects,s2_value,'r-.o')\n",
    "print(axes.get_xticks())\n",
    "print(axes.get_xticklabels())\n",
    "plt.show()"
   ]
  },
  {
   "cell_type": "code",
   "execution_count": null,
   "metadata": {},
   "outputs": [],
   "source": [
    "import matplotlib.pyplot as plt\n",
    "student1 = {'chinese':78, 'english':80, 'math': 92, 'history': 75, 'discover':85}\n",
    "subjects = list(student1.keys())\n",
    "s1_value = list(student1.values())\n",
    "\n",
    "student2 = {'chinese':92, 'english':60, 'math': 85, 'history': 62, 'discover':73}\n",
    "s2_value = list(student2.values())\n",
    "\n",
    "figure = plt.figure(figsize=(8,5))\n",
    "axes1 = figure.add_subplot(2,1,1)\n",
    "axes1.plot(subjects,s1_value,'b-.o')\n",
    "axes1.plot(subjects,s2_value,'r-.o')\n",
    "axes1.grid(axis='y')\n",
    "\n",
    "axes2 = figure.add_subplot(2,1,2)\n",
    "axes2.plot(subjects,s1_value,'b-.o')\n",
    "axes2.plot(subjects,s2_value,'r-.o')\n",
    "axes2.grid(axis='y')\n",
    "xmin, xmax, ymin, ymax = axes2.axis()\n",
    "axes2.axis(xmin=1.5,xmax=2.5,ymin=ymin,ymax=ymax+10)\n",
    "\n",
    "plt.show()"
   ]
  },
  {
   "cell_type": "code",
   "execution_count": null,
   "metadata": {},
   "outputs": [],
   "source": [
    "import random\n",
    "celsius = []\n",
    "for _ in range(30):\n",
    "    celsius.append(random.uniform(28.5, 35.2))\n",
    "print(celsius)"
   ]
  },
  {
   "cell_type": "code",
   "execution_count": null,
   "metadata": {},
   "outputs": [],
   "source": [
    "import random\n",
    "import matplotlib.pyplot as plt\n",
    "'''\n",
    "celsius = []\n",
    "for _ in range(30):\n",
    "    celsius.append(random.uniform(28.5, 35.2))\n",
    "print(celsius)\n",
    "'''\n",
    "#list comprehension\n",
    "celsius = [random.uniform(28.5, 35.2) for _ in range(30)]\n",
    "print(celsius)\n",
    "\n",
    "days = [day for day in range(1,31)]\n",
    "print(days)\n",
    "\n",
    "figure = plt.figure(figsize=(9,4))\n",
    "axes = figure.add_subplot(1,1,1)\n",
    "axes.plot(days,celsius,'r--.')\n",
    "axes.grid()\n",
    "axes.set_xticks(days)\n",
    "plt.show()"
   ]
  }
 ],
 "metadata": {
  "language_info": {
   "name": "python"
  },
  "orig_nbformat": 4
 },
 "nbformat": 4,
 "nbformat_minor": 2
}
