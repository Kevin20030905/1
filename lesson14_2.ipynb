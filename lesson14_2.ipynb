{
 "cells": [
  {
   "cell_type": "code",
   "execution_count": null,
   "metadata": {},
   "outputs": [],
   "source": [
    "import matplotlib.pyplot as plt\n",
    "student1 = {'chinese':78, 'english':80, 'math': 92, 'history': 75, 'discover':85}\n",
    "subjects = list(student1.keys())\n",
    "s1_value = list(student1.values())\n",
    "\n",
    "figure = plt.figure(figsize=(8,5))\n",
    "axes = figure.add_subplot(1,1,1)\n",
    "axes.plot(subjects,s1_value)\n",
    "print(axes.get_xticks())\n",
    "print(axes.get_xticklabels())\n",
    "plt.show()"
   ]
  }
 ],
 "metadata": {
  "language_info": {
   "name": "python"
  },
  "orig_nbformat": 4
 },
 "nbformat": 4,
 "nbformat_minor": 2
}
