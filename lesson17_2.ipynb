{
 "cells": [
  {
   "cell_type": "code",
   "execution_count": null,
   "metadata": {},
   "outputs": [],
   "source": [
    "import numpy as np\n",
    "import pandas as pd\n",
    "\n",
    "s1 = pd.Series([4.5, 7.2, -5.3, 3.6],index=['d','b','a','c'])\n",
    "s1"
   ]
  },
  {
   "cell_type": "code",
   "execution_count": null,
   "metadata": {},
   "outputs": [],
   "source": [
    "#選取使用subscript\n",
    "s1[['a','b']]"
   ]
  },
  {
   "cell_type": "code",
   "execution_count": null,
   "metadata": {},
   "outputs": [],
   "source": [
    "#選取使用reindex()\n",
    "s1.reindex(['a','b'])"
   ]
  },
  {
   "cell_type": "code",
   "execution_count": null,
   "metadata": {},
   "outputs": [],
   "source": [
    "dataFrame1 = pd.DataFrame(np.arange(9).reshape((3,3)),\n",
    "             index=['a','c','d'],\n",
    "             columns=['台北', '台中', '高雄']\n",
    "             )\n",
    "dataFrame1"
   ]
  },
  {
   "cell_type": "code",
   "execution_count": null,
   "metadata": {},
   "outputs": [],
   "source": [
    "#使用loc[],subscript\n",
    "dataFrame1.loc[['a','c']]"
   ]
  },
  {
   "cell_type": "code",
   "execution_count": null,
   "metadata": {},
   "outputs": [],
   "source": [
    "#使用reindex()\n",
    "dataFrame1.reindex(index=['a', 'c'])"
   ]
  },
  {
   "cell_type": "code",
   "execution_count": null,
   "metadata": {},
   "outputs": [],
   "source": [
    "#使用[],subscript\n",
    "dataFrame1[['台北','台中']]"
   ]
  },
  {
   "cell_type": "code",
   "execution_count": null,
   "metadata": {},
   "outputs": [],
   "source": [
    "#使用reindex()\n",
    "dataFrame1.reindex(columns=['台北','台中'])"
   ]
  },
  {
   "cell_type": "code",
   "execution_count": null,
   "metadata": {},
   "outputs": [],
   "source": [
    "#drop(),移除欄或列\n",
    "dataFrame2 = pd.DataFrame(np.arange(16).reshape(4,4),\n",
    "             index = ['台北','台中', '台南', '高雄'],\n",
    "             columns = ['one', 'two', 'three', 'four']\n",
    "             )\n",
    "dataFrame2"
   ]
  },
  {
   "cell_type": "code",
   "execution_count": null,
   "metadata": {},
   "outputs": [],
   "source": [
    "dataFrame2.drop(index=['台北','台中'])"
   ]
  },
  {
   "cell_type": "code",
   "execution_count": null,
   "metadata": {},
   "outputs": [],
   "source": [
    "dataFrame2.loc[['台南','高雄']]"
   ]
  },
  {
   "cell_type": "code",
   "execution_count": null,
   "metadata": {},
   "outputs": [],
   "source": [
    "dataFrame1 = pd.read_csv('學生成績表1.csv')\n",
    "dataFrame1.index = dataFrame1['姓名']\n",
    "dataFrame1.drop(columns='姓名')"
   ]
  },
  {
   "cell_type": "code",
   "execution_count": null,
   "metadata": {},
   "outputs": [],
   "source": []
  }
 ],
 "metadata": {
  "language_info": {
   "name": "python"
  }
 },
 "nbformat": 4,
 "nbformat_minor": 2
}
