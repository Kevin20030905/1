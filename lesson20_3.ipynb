{
 "cells": [
  {
   "cell_type": "code",
   "execution_count": null,
   "metadata": {},
   "outputs": [],
   "source": [
    "import numpy as np\n",
    "import pandas as pd\n",
    "\n",
    "station_2020 = pd.read_csv('每日各站進出站人數2020.csv')\n",
    "station_2020\n",
    "\n",
    "station_2021 = pd.read_csv('每日各站進出站人數2021.csv')\n",
    "station_2021\n",
    "\n",
    "station_2022 = pd.read_csv('每日各站進出站人數2022.csv')\n",
    "\n",
    "def toStr(value:int)->str:\n",
    "    if len(str(value)) == 3:\n",
    "        return f'0{value}'\n",
    "    else:\n",
    "        return str(value)\n",
    "\n",
    "station_2022['staCode'] = station_2022['staCode'].map(toStr)\n",
    "station_2021['staCode'] = station_2021['staCode'].map(toStr)\n",
    "station_2020['staCode'] = station_2020['staCode'].map(toStr)"
   ]
  },
  {
   "cell_type": "code",
   "execution_count": null,
   "metadata": {},
   "outputs": [],
   "source": [
    "import requests\n",
    "url1 = \"https://ods.railway.gov.tw/tra-ods-web/ods/download/dataResource/8ae4cabf6973990e0169947ed32454b9\"\n",
    "response = requests.get(url1)\n",
    "jsonData = response.json()\n",
    "jsonData"
   ]
  },
  {
   "cell_type": "code",
   "execution_count": null,
   "metadata": {},
   "outputs": [],
   "source": [
    "station_2023 = pd.DataFrame(jsonData)\n",
    "station_2023"
   ]
  },
  {
   "cell_type": "code",
   "execution_count": null,
   "metadata": {},
   "outputs": [],
   "source": [
    "stations_df = pd.concat([station_2020, station_2021, station_2022, station_2023],axis=0)\n",
    "stations_df.columns = ['乘車日', '車站代碼', '進站人數', '出站人數']\n",
    "stations_df"
   ]
  },
  {
   "cell_type": "code",
   "execution_count": null,
   "metadata": {},
   "outputs": [],
   "source": [
    "url2 = 'https://ods.railway.gov.tw/tra-ods-web/ods/download/dataResource/0518b833e8964d53bfea3f7691aea0ee'\n",
    "response = requests.get(url2)\n",
    "jsonData1 = response.json()"
   ]
  },
  {
   "cell_type": "code",
   "execution_count": null,
   "metadata": {},
   "outputs": [],
   "source": [
    "station_name_df = pd.DataFrame(jsonData1,columns=['stationCode','stationName'])\n",
    "station_name_df.columns = [\"車站代碼\", \"中文站名\"]\n",
    "station_name_df"
   ]
  },
  {
   "cell_type": "code",
   "execution_count": null,
   "metadata": {},
   "outputs": [],
   "source": [
    "pd.merge(stations_df, station_name_df, on='車站代碼', how='left' )"
   ]
  }
 ],
 "metadata": {
  "language_info": {
   "name": "python"
  }
 },
 "nbformat": 4,
 "nbformat_minor": 2
}
