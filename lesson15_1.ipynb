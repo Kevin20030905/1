{
 "cells": [
  {
   "cell_type": "code",
   "execution_count": null,
   "metadata": {},
   "outputs": [],
   "source": [
    "import matplotlib.pyplot as plt\n",
    "index = [3, 4, 5, 6, 7]\n",
    "subject = ['apple', 'banana', 'orange', 'tomato', 'guava']\n",
    "value1 = [5000, 6000, 7000, 8000, 9000]\n",
    "value2 = [3000, 4000, 5000, 6000, 7000]\n",
    "value3 = [4000, 5000, 6000, 7000, 8000]\n",
    "\n",
    "figure = plt.figure(figsize=(8,5))\n",
    "axes = figure.add_subplot(1,1,1)\n",
    "bin_width=0.3\n",
    "axes.bar(index, value1,width=bin_width,color='red')\n",
    "plt.show()"
   ]
  }
 ],
 "metadata": {
  "language_info": {
   "name": "python"
  }
 },
 "nbformat": 4,
 "nbformat_minor": 2
}
