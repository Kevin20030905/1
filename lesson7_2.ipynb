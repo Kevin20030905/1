{
 "cells": [
  {
   "cell_type": "code",
   "execution_count": null,
   "metadata": {},
   "outputs": [],
   "source": [
    "#變數\n",
    "n = 3\n",
    "b = 5"
   ]
  },
  {
   "cell_type": "code",
   "execution_count": null,
   "metadata": {},
   "outputs": [],
   "source": [
    "#tuple\n",
    "#tuple建立後,不可以修改\n",
    "#tuple當作暫時儲存的資料\n",
    "point1 = (5, 9)\n",
    "point1"
   ]
  },
  {
   "cell_type": "code",
   "execution_count": null,
   "metadata": {},
   "outputs": [],
   "source": [
    "#將tuple內的元素,拆解成為變數\n",
    "#(x, y) = point1\n",
    "x, y = point1\n",
    "\n",
    "print(x)\n",
    "print(y)"
   ]
  }
 ],
 "metadata": {
  "language_info": {
   "name": "python"
  },
  "orig_nbformat": 4
 },
 "nbformat": 4,
 "nbformat_minor": 2
}
