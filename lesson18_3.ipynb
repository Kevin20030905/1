{
 "cells": [
  {
   "cell_type": "code",
   "execution_count": null,
   "metadata": {},
   "outputs": [],
   "source": [
    "import numpy as np\n",
    "import pandas as pd\n",
    "\n",
    "data = {'食物':['培根','豬肉','培根','熏牛肉','咸牛肉','培根','熏牛肉','蜂蜜火腿','熏鮭魚'],\n",
    "        '重量':[4, 3, 12, 6, 7.5, 8, 3, 5, 6]}\n",
    "dataFrame = pd.DataFrame(data)\n",
    "dataFrame"
   ]
  },
  {
   "cell_type": "code",
   "execution_count": null,
   "metadata": {},
   "outputs": [],
   "source": [
    "display(dataFrame['食物'])\n",
    "for item in dataFrame['食物']:\n",
    "    print(item)"
   ]
  },
  {
   "cell_type": "code",
   "execution_count": null,
   "metadata": {},
   "outputs": [],
   "source": [
    "mean_to_animal ={\n",
    "    '培根':'豬',\n",
    "    '豬肉':'豬',\n",
    "    '熏牛肉':'牛',\n",
    "    '咸牛肉':'牛',\n",
    "    '蜂蜜火腿':'豬',\n",
    "    '熏鮭魚':'鮭魚'\n",
    "}"
   ]
  },
  {
   "cell_type": "code",
   "execution_count": null,
   "metadata": {},
   "outputs": [],
   "source": [
    "dataFrame['食物'].map(mean_to_animal)"
   ]
  },
  {
   "cell_type": "code",
   "execution_count": null,
   "metadata": {},
   "outputs": [],
   "source": [
    "dataFrame['動物'] = dataFrame['食物'].map(mean_to_animal)\n",
    "dataFrame"
   ]
  },
  {
   "cell_type": "code",
   "execution_count": null,
   "metadata": {},
   "outputs": [],
   "source": [
    "def cal(value):\n",
    "    return value*1.05\n",
    "\n",
    "dataFrame['重量%5']= dataFrame['重量'].map(cal)\n",
    "dataFrame"
   ]
  }
 ],
 "metadata": {
  "language_info": {
   "name": "python"
  }
 },
 "nbformat": 4,
 "nbformat_minor": 2
}
