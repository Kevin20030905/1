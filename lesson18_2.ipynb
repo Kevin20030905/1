{
 "cells": [
  {
   "cell_type": "code",
   "execution_count": null,
   "metadata": {},
   "outputs": [],
   "source": [
    "#相關係數(correlation)\n",
    "import numpy as np\n",
    "import pandas as pd\n",
    "import matplotlib.pyplot as plt\n",
    "\n",
    "data = {'年廣告費投入':[12.5, 15.3, 23.2, 26.4, 33.5, 34.4, 39.4, 45.2, 55.4, 60.9],\n",
    "        '月均銷售額':[21.2, 23.9, 32.9, 34.1, 42.5, 43.2, 49.0, 52.8, 59.4, 63.5]}\n",
    "dataFrame = pd.DataFrame(data,\n",
    "                         index=[2011,2012,2013,2014,2015,2016,2017,2018,2019,2020])\n",
    "dataFrame"
   ]
  },
  {
   "cell_type": "code",
   "execution_count": null,
   "metadata": {},
   "outputs": [],
   "source": [
    "dataFrame['年廣告費投入'].corr(dataFrame['月均銷售額'])"
   ]
  },
  {
   "cell_type": "code",
   "execution_count": null,
   "metadata": {},
   "outputs": [],
   "source": [
    "figure = plt.figure(figsize=(8,5))\n",
    "axes = figure.add_subplot(1,1,1)\n",
    "axes.plot(dataFrame.index,dataFrame['年廣告費投入'],'ko--')\n",
    "axes.plot(dataFrame.index,dataFrame['月均銷售額'],'ro--')\n",
    "plt.show()"
   ]
  },
  {
   "cell_type": "code",
   "execution_count": null,
   "metadata": {},
   "outputs": [],
   "source": [
    "import yfinance as yf\n",
    "data = yf.download(\"AAPL\", start=\"2022-01-01\")\n",
    "data"
   ]
  },
  {
   "cell_type": "code",
   "execution_count": null,
   "metadata": {},
   "outputs": [],
   "source": [
    "#台積電(2330.TW),聯電(2303.TW),聯發科(2454.TW),鴻海(2317.TW)\n",
    "tw2330 = yf.download(\"2330.TW\", start=\"2022-01-01\")\n",
    "tw2303 = yf.download(\"2303.TW\", start=\"2022-01-01\")\n",
    "tw2454 = yf.download(\"2454.TW\", start=\"2022-01-01\")\n",
    "tw2317 = yf.download(\"2317.TW\", start=\"2022-01-01\")\n",
    "tw2330['Adj Close'],tw2303['Adj Close'],tw2454['Adj Close'],tw2317['Adj Close']"
   ]
  },
  {
   "cell_type": "code",
   "execution_count": null,
   "metadata": {},
   "outputs": [],
   "source": [
    "dataFrame = pd.concat([tw2330['Adj Close'],tw2303['Adj Close'],tw2454['Adj Close'],tw2317['Adj Close']],\n",
    "          axis=1)\n",
    "dataFrame.columns = ['台積電','聯電','聯發科','鴻海']"
   ]
  },
  {
   "cell_type": "code",
   "execution_count": null,
   "metadata": {},
   "outputs": [],
   "source": [
    "dataFrame.info()"
   ]
  },
  {
   "cell_type": "code",
   "execution_count": null,
   "metadata": {},
   "outputs": [],
   "source": [
    "pctChange = dataFrame.pct_change()\n",
    "pctChange"
   ]
  },
  {
   "cell_type": "code",
   "execution_count": null,
   "metadata": {},
   "outputs": [],
   "source": [
    "shift = dataFrame - dataFrame.shift(1)\n",
    "shift"
   ]
  },
  {
   "cell_type": "code",
   "execution_count": null,
   "metadata": {},
   "outputs": [],
   "source": [
    "pctChange[1:].corr()"
   ]
  }
 ],
 "metadata": {
  "language_info": {
   "name": "python"
  }
 },
 "nbformat": 4,
 "nbformat_minor": 2
}
